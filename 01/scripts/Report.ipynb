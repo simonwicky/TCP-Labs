{
 "cells": [
  {
   "cell_type": "markdown",
   "metadata": {},
   "source": [
    "# TP1 TCP/IP\n",
    "\n",
    "In this research exercice, we test the latency between nodes on different topologies, using the Mininet program."
   ]
  },
  {
   "cell_type": "markdown",
   "metadata": {},
   "source": [
    "## Mininet\n",
    "\n",
    "The following code was run in a single script on the provided virtual machine. The data generated was stored on the shared folder."
   ]
  },
  {
   "cell_type": "code",
   "execution_count": null,
   "metadata": {},
   "outputs": [],
   "source": [
    "from mininet.net import Mininet\n",
    "from mininet.node import Controller\n",
    "from mininet.cli import CLI\n",
    "from mininet.log import setLogLevel, info"
   ]
  },
  {
   "cell_type": "markdown",
   "metadata": {},
   "source": [
    "## Star Topology\n",
    "\n",
    "The star topology was proposed in the handout.\n",
    "This function creates a network with N \"edge\" nodes with subnet 10.10.X.0/24 and IP 10.10.X.X. .\n",
    "The \"router\" node is conneted to each other node, and has IP 10.10.X.N+1 on the subnet.\n",
    "\n",
    "We perform 13 ping requests, and only keep the last 10 to account for extra communication which might occur when the ping is initiated (MAC address resolution for example)."
   ]
  },
  {
   "cell_type": "code",
   "execution_count": null,
   "metadata": {},
   "outputs": [],
   "source": [
    "def starNetwork(N):\n",
    "\n",
    "    \"Create an empty network and add nodes to it.\"\n",
    "    net = Mininet()\n",
    "    info('*** Adding controller\\n')\n",
    "    net.addController('c0')\n",
    "\n",
    "    info('*** Adding hosts\\n')\n",
    "\n",
    "    router = net.addHost('PC0', ip='10.10.1.' + str(N + 1) + '/24')\n",
    "\n",
    "    PCs = []\n",
    "    switches = []\n",
    "    links = []\n",
    "\n",
    "    # create nodes\n",
    "    for i in range(N):\n",
    "        name = 'PC' + str(i + 1)\n",
    "        address = '10.10.' + str(i + 1) + '.' + str(i + 1) + '/24'\n",
    "        print(address)\n",
    "        PCs.append(net.addHost(name, ip=address))\n",
    "\n",
    "    # create switches and links\n",
    "    for i in range(N):\n",
    "        s = net.addSwitch('s' + str(i + 1) + '-' + str(N + 1))\n",
    "        switches.append(s)\n",
    "        links.append(net.addLink(PCs[i], s))\n",
    "        links.append(net.addLink(router, s))\n",
    "\n",
    "    # add router to all other subnets\n",
    "    for i in range(1, N):\n",
    "        router_dev =  'router-eth' + str(i)\n",
    "        router.cmd('ip addr add  10.10.' + str(i + 1) + '.' + str(N + 1) +\n",
    "                   '/24 dev ' + router_dev)\n",
    "\n",
    "    router.cmd('echo 1 > /proc/sys/net/ipv4/ip_forward')\n",
    "    info('*** Starting network\\n')\n",
    "    net.start()\n",
    "    for i in range(N):\n",
    "        PCs[i].cmd('ip route add default via 10.10.' + str(i + 1) + '.' +\n",
    "                   str(N + 1))\n",
    "\n",
    "    # Ping edge node to edge node\n",
    "    PCs[0].cmd('ping ' + PCs[1].IP() + \" -c 13 | sed -n '5,14 p '> \" + PCs[0].name + '-' + PCs[1].name + '-'+ str(N) +'-star.txt')\n",
    "    # Ping edge node to router node\n",
    "    PCs[0].cmd('ping ' + router.IP() + \" -c 13 | sed -n '5,14 p '> \" + PCs[0].name + '-' + router.name + '-'+ str(N) +'-star.txt')\n",
    "\n",
    "    info('*** Stopping network')\n",
    "    net.stop()"
   ]
  },
  {
   "cell_type": "markdown",
   "metadata": {},
   "source": [
    "## Chain Topology\n",
    "\n",
    "Our next experiment was a \"chain\" with N nodes. \n",
    "Each node is connected to its predecessor and successor.\n",
    "We index the nodes from 1 until N.\n",
    "For each node i (except node N):\n",
    "- IP 10.10.i.i on subnet 10.10.i.0/24\n",
    "- IP 10.10.(i+1).i on subnet 10.10.(i+1).0/24\n",
    "\n",
    "We set the default gateway to be the successor node (the last node routes to its predecessor).\n",
    "We also add a static route for 10.10.1.0/24 since our pings will be performed from the first node.\n",
    "\n",
    "We collect the following ping samples:\n",
    "- if N = 100, we ping every 10th node on the chain, as well as the last one\n",
    "- if N = 10, we ping all nodes"
   ]
  },
  {
   "cell_type": "code",
   "execution_count": null,
   "metadata": {},
   "outputs": [],
   "source": [
    "def chainNetwork(N):\n",
    "\n",
    "    \"Create an empty network and add nodes to it.\"\n",
    "    net = Mininet()\n",
    "    info('*** Adding controller\\n')\n",
    "    net.addController('c0')\n",
    "\n",
    "    info('*** Adding hosts\\n')\n",
    "\n",
    "\n",
    "    PCs = []\n",
    "    switches = []\n",
    "    links = []\n",
    "\n",
    "    # create nodes\n",
    "    PCs.append(net.addHost('PC1', ip='10.10.1.1/24'))\n",
    "    for i in range(1,N):\n",
    "        name = 'PC' + str(i + 1)\n",
    "        address = '10.10.' + str(i) + '.' + str(i + 1) + '/24'\n",
    "        print(address)\n",
    "        PCs.append(net.addHost(name, ip=address))\n",
    "\n",
    "    # create switches and links\n",
    "    for i in range(N-1):\n",
    "        s = net.addSwitch('s' + str(i + 1) + '-' + str(i + 2))\n",
    "        switches.append(s)\n",
    "        links.append(net.addLink(PCs[i+1], s))\n",
    "        links.append(net.addLink(PCs[i], s))\n",
    "\n",
    "    # add second interface to node [1,N-2] (intermediary node)\n",
    "    for i in range(1, N-1):\n",
    "        PCs[i].cmd('ip addr add  10.10.' + str(i+1)+ '.' + str(i+1) + '/24 dev ' + PCs[i].name +'-eth1')\n",
    "        PCs[i].cmd('echo 1 > /proc/sys/net/ipv4/ip_forward')\n",
    "        \n",
    "    info('*** Starting network\\n')\n",
    "    net.start()\n",
    "\n",
    "    #default gateway for node 0 and N-1\n",
    "    PCs[0].cmd('ip route add default via 10.10.1.2 dev PC1-eth0')\n",
    "    PCs[N-1].cmd('ip route add default via 10.10.' + str(N-1) + '.' + str(N-1) + ' dev ' + PCs[N-1].name +'-eth0')\n",
    "\n",
    "    #default gateway for all other nodes\n",
    "    for i in range(1,N-1):\n",
    "        PCs[i].cmd('ip route add default via 10.10.' + str(i + 1) + '.' +\n",
    "                   str(i + 2) + ' dev ' + PCs[i].name +'-eth1')\n",
    "\n",
    "    #static route to PC1 for ping reply, from node 3 to N-1\n",
    "    for i in range(2,N):\n",
    "        PCs[i].cmd('ip route add 10.10.1.0/24 via 10.10.' + str(i) + '.' +\n",
    "                   str(i) + ' dev ' + PCs[i].name +'-eth0')\n",
    "\n",
    "    if N > 10:\n",
    "        # ping every 10 nodes starting with 2\n",
    "        for i in range(1, N,10):\n",
    "            PCs[0].cmd('ping ' + PCs[i].IP() + \" -c 13 | sed -n '5,14 p '> \" + PCs[0].name + '-' + PCs[i].name + '-'+ str(N) +'-chain.txt')\n",
    "        # ping last node\n",
    "        PCs[0].cmd('ping ' + PCs[N-1].IP() + \"-t 255 -c 13 | sed -n '5,14 p '> \" + PCs[0].name + '-' + PCs[N-1].name + '-'+ str(N) +'-chain.txt')\n",
    "    else:\n",
    "        # ping all nodes\n",
    "        for i in range(1, N):\n",
    "            PCs[0].cmd('ping ' + PCs[i].IP() + \" -c 13 | sed -n '5,14 p '> \" + PCs[0].name + '-' + PCs[i].name + '-'+ str(N) +'-chain.txt')\n",
    "            \n",
    "    info('*** Stopping network')\n",
    "    net.stop()"
   ]
  },
  {
   "cell_type": "code",
   "execution_count": null,
   "metadata": {},
   "outputs": [],
   "source": [
    "chainNetwork(10)\n",
    "chainNetwork(100)\n",
    "starNetwork(5)\n",
    "starNetwork(10)\n",
    "starNetwork(50)\n",
    "starNetwork(100)\n"
   ]
  },
  {
   "cell_type": "markdown",
   "metadata": {},
   "source": [
    "### Loading data\n",
    "\n",
    "This simple function reads all text files generated by the mininet scripts and stores them in a usable dataframe."
   ]
  },
  {
   "cell_type": "code",
   "execution_count": 2,
   "metadata": {},
   "outputs": [],
   "source": [
    "import os\n",
    "import pandas as pd\n",
    "from matplotlib import pyplot as plt\n",
    "# This code is not aimed to be robust, and produces the right results, so we can ignore some warnings.\n",
    "pd.options.mode.chained_assignment = None "
   ]
  },
  {
   "cell_type": "code",
   "execution_count": 4,
   "metadata": {},
   "outputs": [],
   "source": [
    "def load_pings():\n",
    "    df = pd.DataFrame(columns=['time','source', 'dest', 'N', 'topo'])\n",
    "\n",
    "    files = [f for f in os.listdir('./') if f.endswith('.txt')]\n",
    "    for file in files:\n",
    "        pc1, pc2, N, topo, _ = file.replace('.', '-').split('-')\n",
    "        df2 = pd.read_csv(file, header=None)\n",
    "        df2['source'] = pc1[2:]\n",
    "        df2['dest'] = pc2[2:]\n",
    "        df2['N'] = int(N)\n",
    "        df2['topo'] = topo\n",
    "        df2.columns = ['time', 'source','dest', 'N', 'topo']\n",
    "        df2['time'] = df2['time'].apply(lambda x: x.split('time=')[1])\n",
    "        df2['time'] = pd.to_timedelta(df2['time'])\n",
    "        df2['time'] = df2['time'].apply(lambda x : x.microseconds)\n",
    "        df = df.append(df2)\n",
    "    df['time'] = pd.to_numeric(df['time'])\n",
    "    df['source'] = pd.to_numeric(df['source'])\n",
    "    df['dest'] = pd.to_numeric(df['dest'])\n",
    "    df['N'] = pd.to_numeric(df['N'])\n",
    "    return df\n",
    "df = load_pings()"
   ]
  },
  {
   "cell_type": "markdown",
   "metadata": {},
   "source": [
    "## Plots\n",
    "\n",
    "For each test, we measured 13 ping requests and removed the first 3 to get a better average behaviour (the first might provoke a MAC address resolution).\n",
    "\n",
    "We noticed that round trip time (RTT) has quite a large variance, motivating the use of boxplots which give a bigger picture."
   ]
  },
  {
   "cell_type": "markdown",
   "metadata": {},
   "source": [
    "### Plotting the chain topology\n",
    "\n",
    "We only one chain network with 100 nodes in order to test the latency between the first node, and various other ones after it."
   ]
  },
  {
   "cell_type": "code",
   "execution_count": 5,
   "metadata": {
    "scrolled": true
   },
   "outputs": [
    {
     "data": {
      "image/png": "[encoded data removed]",
      "text/plain": [
       "<Figure size 1080x720 with 2 Axes>"
      ]
     },
     "metadata": {
      "needs_background": "light"
     },
     "output_type": "display_data"
    }
   ],
   "source": [
    "chain_df = df.loc[df[\"topo\"] == \"chain\"]\n",
    "chain_100_df = chain_df.loc[chain_df[\"N\"] == 100]\n",
    "chain_10_df = chain_df.loc[chain_df[\"N\"] == 10]\n",
    "\n",
    "fig, axes = plt.subplots(ncols=2, figsize=(15, 10), sharey=True)\n",
    "chain_10_df.boxplot(by='dest', column='time', return_type='axes', ax=axes[0])\n",
    "axes[0].set_xlabel(\"Destination node\")\n",
    "axes[0].set_title(\"10 nodes\")\n",
    "axes[0].set_ylabel(\"RTT (µs)\")\n",
    "chain_100_df.boxplot(by='dest', column='time', return_type='axes', ax=axes[1])\n",
    "axes[1].set_xlabel(\"Destination node\")\n",
    "axes[1].set_title(\"100 nodes\")\n",
    "fig.suptitle(\"Chain topology\", fontsize=16)\n",
    "plt.show()"
   ]
  },
  {
   "cell_type": "markdown",
   "metadata": {},
   "source": [
    "As expected, the time required to ping time increases linearly with the distance, since the request must go through more intermediary nodes.\n",
    "\n",
    "We do notice that as the distance grows, the variance in RTT grows as well. \n",
    "This is normal though, since there is a natural variance of the latency for each host,\n",
    "and when going through multiple hosts, all individual latency are summed."
   ]
  },
  {
   "cell_type": "markdown",
   "metadata": {},
   "source": [
    "### Plotting the star topology\n",
    "\n",
    "In this test, we measured the time required for a ping between:\n",
    "- two edge nodes\n",
    "- an edge node the router"
   ]
  },
  {
   "cell_type": "code",
   "execution_count": 6,
   "metadata": {},
   "outputs": [
    {
     "data": {
      "image/png": "[encoded data removed]",
      "text/plain": [
       "<Figure size 1080x720 with 2 Axes>"
      ]
     },
     "metadata": {
      "needs_background": "light"
     },
     "output_type": "display_data"
    }
   ],
   "source": [
    "star_df = df.loc[df[\"topo\"] == \"star\"]\n",
    "edge2router = star_df.loc[star_df[\"dest\"] == 0]\n",
    "edge2edge = star_df.loc[star_df [\"dest\"] == 2]\n",
    "\n",
    "fig, axes = plt.subplots(ncols=2, figsize=(15, 10), sharey=True)\n",
    "edge2edge.boxplot(by='N', column='time', return_type='axes', ax=axes[0])\n",
    "axes[0].set_xlabel(\"Number of Hosts\")\n",
    "axes[0].set_title(\"Edge to Edge\")\n",
    "axes[0].set_ylabel(\"RTT (µs)\")\n",
    "edge2router.boxplot(by='N', column='time', return_type='axes', ax=axes[1])\n",
    "axes[1].set_xlabel(\"Number of Hosts\")\n",
    "axes[1].set_title(\"Edge to Router\")\n",
    "fig.suptitle(\"Star topology\", fontsize=16)\n",
    "plt.show()"
   ]
  },
  {
   "cell_type": "markdown",
   "metadata": {},
   "source": [
    "In the edge to router case, the mean RTT stays rather similar when the number of nodes increases.\n",
    "For edge to edge communication, some large outliers are present, indicating that perhaps that the router takes more time to route certain packets.\n",
    "\n",
    "With the current data, it would seem that the number of nodes does not have that much of an effect on RTT, but more ping data would be required to confirm this hypothesis."
   ]
  }
 ],
 "metadata": {
  "kernelspec": {
   "display_name": "Python 3",
   "language": "python",
   "name": "python3"
  },
  "language_info": {
   "codemirror_mode": {
    "name": "ipython",
    "version": 3
   },
   "file_extension": ".py",
   "mimetype": "text/x-python",
   "name": "python",
   "nbconvert_exporter": "python",
   "pygments_lexer": "ipython3",
   "version": "3.7.4"
  }
 },
 "nbformat": 4,
 "nbformat_minor": 4
}
